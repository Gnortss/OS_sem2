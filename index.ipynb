{
 "cells": [
  {
   "cell_type": "code",
   "execution_count": 1,
   "metadata": {},
   "outputs": [],
   "source": [
    "import numpy as np\n",
    "import pandas as pd\n",
    "import itertools as IT\n",
    "import datetime\n",
    "# from tqdm import tqdm\n"
   ]
  },
  {
   "cell_type": "code",
   "execution_count": 65,
   "metadata": {},
   "outputs": [],
   "source": [
    "class UserItemData:\n",
    "    \n",
    "    def __init__(self,path,start=None,end=None,min_ratings=0):\n",
    "        df = pd.read_csv(path,sep=\"\\s+\")        #branje .dat datoteke\n",
    "        \n",
    "        #selekcija po minimalnem datumu\n",
    "        if start is not None:\n",
    "            s_day , s_month, s_year = start.strip().split(\".\")  \n",
    "            s_day = int(s_day)\n",
    "            s_month = int(s_month)\n",
    "            s_year = int(s_year)\n",
    "            \n",
    "            #glede na leto\n",
    "            df = df.loc[ (df[\"date_year\"]   >= s_year) ] \n",
    "            \n",
    "            #glede na mesec\n",
    "            tmp_mask = (df[\"date_year\"] == s_year) & (df[\"date_month\"] < s_month)\n",
    "            df = df.loc[np.logical_not(tmp_mask)]\n",
    "            \n",
    "            #glede na dan\n",
    "            tmp_mask = (df[\"date_year\"] == s_year) & (df[\"date_month\"] == s_month) & (df[\"date_day\"] < s_day)\n",
    "            df = df.loc[np.logical_not(tmp_mask)]\n",
    "        \n",
    "        if end is not None:\n",
    "            e_day , e_month, e_year = end.strip().split(\".\")  \n",
    "            e_day = int(e_day)\n",
    "            e_month = int(e_month)\n",
    "            e_year = int(e_year)\n",
    "            \n",
    "            #glede na leto\n",
    "            df = df.loc[ (df[\"date_year\"] <= int(e_year)) ] \n",
    "            \n",
    "            #glede na mesec\n",
    "            tmp_mask = (df[\"date_year\"] == int(e_year)) & (df[\"date_month\"] > int(e_month))\n",
    "            df = df.loc[np.logical_not(tmp_mask)]\n",
    "            \n",
    "            #glede na dan\n",
    "            tmp_mask = (df[\"date_year\"] == e_year) & (df[\"date_month\"] == e_month) & (df[\"date_day\"] >= e_day)\n",
    "            df = df.loc[np.logical_not(tmp_mask)]\n",
    "        \n",
    "        counts = df[\"movieID\"].value_counts()\n",
    "        mask = counts > min_ratings\n",
    "        ids = counts.loc[mask].index.values\n",
    "        df = df.loc[df[\"movieID\"].isin(ids)]\n",
    "        \n",
    "        self.data = df\n",
    "        self.len = len(self.data)\n",
    "        \n",
    "    def nrows(self):\n",
    "        return self.len\n",
    "    \n",
    "    def movies_from_user(self, uid):\n",
    "        user_mask = self.data[\"userID\"] == uid\n",
    "        return self.data[\"movieID\"].loc[user_mask]"
   ]
  },
  {
   "cell_type": "code",
   "execution_count": 3,
   "metadata": {},
   "outputs": [],
   "source": [
    "class MovieData:\n",
    "    def __init__(self,path):\n",
    "        self.data =  pd.read_csv(path,sep=\"\\t+\",usecols=[\"id\",\"title\"],engine=\"python\")\n",
    "    \n",
    "    def get_title(self,id):\n",
    "        return self.data[\"title\"].loc[self.data[\"id\"] == id].values[0]"
   ]
  },
  {
   "cell_type": "code",
   "execution_count": 4,
   "metadata": {},
   "outputs": [],
   "source": [
    "class RandomPredictor:\n",
    "    def __init__(self, min_grade=0, max_grade=5):\n",
    "        self.min_grade = min_grade\n",
    "        self.max_grade = max_grade + 1\n",
    "    def predict(self,uid):\n",
    "        mids = set(self.data[\"movieID\"].values)\n",
    "        N = len(mids)\n",
    "        ratings = np.random.randint(self.min_grade, self.max_grade,N)\n",
    "        items = zip(mids,ratings)\n",
    "        return dict(items)\n",
    "    def fit(self,X):\n",
    "        self.data = X.data"
   ]
  },
  {
   "cell_type": "code",
   "execution_count": 124,
   "metadata": {},
   "outputs": [],
   "source": [
    "class AveragePredictor:\n",
    "    def __init__(self, b):\n",
    "        self.b = b\n",
    "    \n",
    "    def fit(self, X):\n",
    "        g_avg = X.data[\"rating\"].mean()\n",
    "        m_sum = X.data[[\"movieID\", \"rating\"]].groupby(\"movieID\").sum().rename(columns={\"rating\":\"sum\"})\n",
    "        m_count = X.data[[\"movieID\", \"rating\"]].groupby(\"movieID\").count().rename(columns={\"rating\":\"count\"})\n",
    "        print(m_sum)"
   ]
  },
  {
   "cell_type": "code",
   "execution_count": 5,
   "metadata": {},
   "outputs": [],
   "source": [
    "class ViewsPredictor:\n",
    "    def __init__(self):\n",
    "        pass\n",
    "    def fit(self,X):\n",
    "        n = X.data[\"movieID\"].value_counts()   \n",
    "        vals = n.values.flatten()\n",
    "        keys = n.index\n",
    "        self.predictions = dict( zip(keys,vals) )\n",
    "    def predict(self,uid):\n",
    "        return dict(sorted(self.predictions.items(), key=lambda item: item[1], reverse=True))"
   ]
  },
  {
   "cell_type": "code",
   "execution_count": 7,
   "metadata": {},
   "outputs": [],
   "source": [
    "class STDPredictor:\n",
    "    def __init__(self, n):\n",
    "        self.n = n\n",
    "    \n",
    "    def fit(self,X):\n",
    "        mask = X.data[\"movieID\"].value_counts() > self.n\n",
    "        mids = X.data[\"movieID\"].value_counts().loc[mask]\n",
    "        mids = mids.index\n",
    "        \n",
    "        mask = X.data[\"movieID\"].isin(mids)\n",
    "        tmp = X.data[[\"movieID\",\"rating\"]].loc[mask].groupby(\"movieID\").std()\n",
    "        self.predictions = dict( zip(tmp.index, tmp.values.flatten()) ) \n",
    "        \n",
    "    def predict(self,uid):\n",
    "        return dict(sorted(self.predictions.items(), key=lambda item: item[1], reverse=True))"
   ]
  },
  {
   "cell_type": "code",
   "execution_count": 90,
   "metadata": {},
   "outputs": [],
   "source": [
    "class Recommender:\n",
    "    def __init__(self, predictor):\n",
    "        self.predictor = predictor\n",
    "        \n",
    "    def fit(self, X):\n",
    "        self.uim = X\n",
    "        self.predictor.fit(X)\n",
    "\n",
    "    def recommend(self, userID, n=10, rec_seen=True):\n",
    "        preds = self.predictor.predict(userID)\n",
    "        rec_movies = sorted(preds.items(), key=lambda item: item[1], reverse=True)\n",
    "        if not rec_seen:\n",
    "            rec_movies = [m for m in rec_movies if m[0] not in self.uim.movies_from_user(userID)]\n",
    "        return dict(rec_movies[:n])"
   ]
  },
  {
   "cell_type": "code",
   "execution_count": 79,
   "metadata": {},
   "outputs": [],
   "source": [
    "md = MovieData('movielens/movies.dat')\n",
    "uim = UserItemData('movielens/user_ratedmovies.dat') "
   ]
  },
  {
   "cell_type": "code",
   "execution_count": 105,
   "metadata": {},
   "outputs": [
    {
     "name": "stdout",
     "output_type": "stream",
     "text": [
      "Film 2571: The Matrix, ocena: 1670\n",
      "Film 4993: The Lord of the Rings: The Fellowship of the Ring, ocena: 1576\n",
      "Film 5952: The Lord of the Rings: The Two Towers, ocena: 1528\n",
      "Film 2858: American Beauty, ocena: 1472\n",
      "Film 7153: The Lord of the Rings: The Return of the King, ocena: 1457\n"
     ]
    }
   ],
   "source": [
    "rp = ViewsPredictor()\n",
    "rec = Recommender(rp)\n",
    "rec.fit(uim)\n",
    "rec_items = rec.recommend(78, n=5, rec_seen=False)\n",
    "for idmovie, val in rec_items.items():\n",
    "    print(\"Film {}: {}, ocena: {}\".format(idmovie, md.get_title(idmovie), val))  "
   ]
  },
  {
   "cell_type": "code",
   "execution_count": 106,
   "metadata": {},
   "outputs": [],
   "source": [
    "for mid in rec_items.keys():\n",
    "    if mid in uim.movies_from_user(78):\n",
    "        print(\"Fail\")"
   ]
  },
  {
   "cell_type": "code",
   "execution_count": 125,
   "metadata": {},
   "outputs": [
    {
     "data": {
      "text/plain": [
       "55        17\n",
       "56        29\n",
       "57        32\n",
       "58        41\n",
       "59        82\n",
       "       ...  \n",
       "518    46578\n",
       "519    46976\n",
       "520    48774\n",
       "521    49272\n",
       "522    50872\n",
       "Name: movieID, Length: 468, dtype: int64"
      ]
     },
     "execution_count": 125,
     "metadata": {},
     "output_type": "execute_result"
    }
   ],
   "source": [
    "uim.movies_from_user(78)"
   ]
  },
  {
   "cell_type": "code",
   "execution_count": 126,
   "metadata": {},
   "outputs": [
    {
     "name": "stdout",
     "output_type": "stream",
     "text": [
      "            sum\n",
      "movieID        \n",
      "1        4717.5\n",
      "2        2277.0\n",
      "3         724.0\n",
      "4         116.0\n",
      "5         619.5\n",
      "...         ...\n",
      "65088       3.5\n",
      "65091       4.0\n",
      "65126       6.5\n",
      "65130       2.5\n",
      "65133      12.0\n",
      "\n",
      "[10109 rows x 1 columns]\n"
     ]
    }
   ],
   "source": [
    "p = AveragePredictor(0)\n",
    "p.fit(uim)"
   ]
  },
  {
   "cell_type": "code",
   "execution_count": null,
   "metadata": {},
   "outputs": [],
   "source": []
  }
 ],
 "metadata": {
  "kernelspec": {
   "display_name": "Python 3",
   "language": "python",
   "name": "python3"
  },
  "language_info": {
   "codemirror_mode": {
    "name": "ipython",
    "version": 3
   },
   "file_extension": ".py",
   "mimetype": "text/x-python",
   "name": "python",
   "nbconvert_exporter": "python",
   "pygments_lexer": "ipython3",
   "version": "3.6.11"
  }
 },
 "nbformat": 4,
 "nbformat_minor": 4
}
