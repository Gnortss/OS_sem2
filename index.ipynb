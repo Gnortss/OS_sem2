{
 "cells": [
  {
   "cell_type": "code",
   "execution_count": null,
   "metadata": {},
   "outputs": [],
   "source": [
    "import numpy as np\n",
    "import pandas as pd\n",
    "import itertools as IT\n",
    "import datetime\n",
    "from tqdm import tqdm\n"
   ]
  },
  {
   "cell_type": "code",
   "execution_count": null,
   "metadata": {},
   "outputs": [],
   "source": [
    "class UserItemData:\n",
    "    \n",
    "    def __init__(self,path,start=None,end=None,min_ratings=0):\n",
    "        df = pd.read_csv(path,sep=\"\\s+\")        #branje .dat datoteke\n",
    "        \n",
    "        #selekcija po minimalnem datumu\n",
    "        if start is not None:\n",
    "            s_day , s_month, s_year = start.strip().split(\".\")  \n",
    "            s_day = int(s_day)\n",
    "            s_month = int(s_month)\n",
    "            s_year = int(s_year)\n",
    "            \n",
    "            #glede na leto\n",
    "            df = df.loc[ (df[\"date_year\"]   >= s_year) ] \n",
    "            \n",
    "            #glede na mesec\n",
    "            tmp_mask = (df[\"date_year\"] == s_year) & (df[\"date_month\"] < s_month)\n",
    "            df = df.loc[np.logical_not(tmp_mask)]\n",
    "            \n",
    "            #glede na dan\n",
    "            tmp_mask = (df[\"date_year\"] == s_year) & (df[\"date_month\"] == s_month) & (df[\"date_day\"] < s_day)\n",
    "            df = df.loc[np.logical_not(tmp_mask)]\n",
    "        \n",
    "        if end is not None:\n",
    "            e_day , e_month, e_year = end.strip().split(\".\")  \n",
    "            e_day = int(e_day)\n",
    "            e_month = int(e_month)\n",
    "            e_year = int(e_year)\n",
    "            \n",
    "            #glede na leto\n",
    "            df = df.loc[ (df[\"date_year\"] <= int(e_year)) ] \n",
    "            \n",
    "            #glede na mesec\n",
    "            tmp_mask = (df[\"date_year\"] == int(e_year)) & (df[\"date_month\"] > int(e_month))\n",
    "            df = df.loc[np.logical_not(tmp_mask)]\n",
    "            \n",
    "            #glede na dan\n",
    "            tmp_mask = (df[\"date_year\"] == e_year) & (df[\"date_month\"] == e_month) & (df[\"date_day\"] >= e_day)\n",
    "            df = df.loc[np.logical_not(tmp_mask)]\n",
    "        \n",
    "        counts = df[\"movieID\"].value_counts()\n",
    "        mask = counts > min_ratings\n",
    "        ids = counts.loc[mask].index.values\n",
    "        df = df.loc[df[\"movieID\"].isin(ids)]\n",
    "        \n",
    "        self.data = df\n",
    "        self.len = len(self.data)\n",
    "        \n",
    "        \n",
    "    def nrows(self):\n",
    "        return self.len"
   ]
  },
  {
   "cell_type": "code",
   "execution_count": null,
   "metadata": {},
   "outputs": [],
   "source": [
    "class MovieData:\n",
    "    def __init__(self,path):\n",
    "        self.data =  pd.read_csv(path,sep=\"\\t+\",usecols=[\"id\",\"title\"],engine=\"python\")\n",
    "    \n",
    "    def get_title(self,id):\n",
    "        return self.data[\"title\"].loc[self.data[\"id\"] == id].values[0]"
   ]
  },
  {
   "cell_type": "code",
   "execution_count": null,
   "metadata": {},
   "outputs": [],
   "source": [
    "class RandomPredictor:\n",
    "    def __init__(self, min_grade=0, max_grade=5):\n",
    "        self.min_grade = min_grade\n",
    "        self.max_grade = max_grade + 1\n",
    "    def predict(self,uid):\n",
    "        mids = set(self.data[\"movieID\"].values)\n",
    "        N = len(mids)\n",
    "        ratings = np.random.randint(self.min_grade, self.max_grade,N)\n",
    "        items = zip(mids,ratings)\n",
    "        return dict(items)\n",
    "    def fit(self,X):\n",
    "        self.data = X.data"
   ]
  },
  {
   "cell_type": "code",
   "execution_count": null,
   "metadata": {},
   "outputs": [],
   "source": [
    "class ViewsPredictor:\n",
    "    def __init__(self):\n",
    "        pass\n",
    "    def fit(self,X):\n",
    "        n = X.data[\"movieID\"].value_counts()   \n",
    "        vals = n.values.flatten()\n",
    "        keys = n.index\n",
    "        self.predictions = dict( zip(keys,vals) )\n",
    "    def predict(self,uid):\n",
    "        return dict(sorted(self.predictions.items(), key=lambda item: item[1], reverse=True))"
   ]
  },
  {
   "cell_type": "code",
   "execution_count": null,
   "metadata": {},
   "outputs": [],
   "source": [
    "class STDPredictor:\n",
    "    def __init__(self, n):\n",
    "        self.n = n;\n",
    "    \n",
    "    def fit(self,X):\n",
    "        mask = X.data[\"movieID\"].value_counts() > self.n\n",
    "        mids = X.data[\"movieID\"].value_counts().loc[mask]\n",
    "        mids = mids.index\n",
    "        \n",
    "        mask = X.data[\"movieID\"].isin(mids)\n",
    "        tmp = X.data[[\"movieID\",\"rating\"]].loc[mask].groupby(\"movieID\").std()\n",
    "        self.predictions = dict( zip(tmp.index, tmp.values.flatten()) ) \n",
    "        \n",
    "    def predict(self,uid):\n",
    "        return dict(sorted(self.predictions.items(), key=lambda item: item[1], reverse=True))"
   ]
  }
 ],
 "metadata": {
  "kernelspec": {
   "display_name": "Python 3",
   "language": "python",
   "name": "python3"
  },
  "language_info": {
   "codemirror_mode": {
    "name": "ipython",
    "version": 3
   },
   "file_extension": ".py",
   "mimetype": "text/x-python",
   "name": "python",
   "nbconvert_exporter": "python",
   "pygments_lexer": "ipython3",
   "version": "3.7.6"
  }
 },
 "nbformat": 4,
 "nbformat_minor": 4
}
